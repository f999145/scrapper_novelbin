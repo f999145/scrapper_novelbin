{
 "cells": [
  {
   "cell_type": "code",
   "execution_count": 27,
   "metadata": {},
   "outputs": [],
   "source": [
    "from config import get_headers, url\n",
    "import requests\n",
    "import json"
   ]
  },
  {
   "cell_type": "code",
   "execution_count": 28,
   "metadata": {},
   "outputs": [
    {
     "data": {
      "text/plain": [
       "{'Accept': 'text/html,application/xhtml+xml,application/xml;q=0.9,image/avif,image/webp,*/*;q=0.8',\n",
       " 'User-Agent': 'Opera/9.63 (Windows NT 5.2; U; en) Presto/2.1.1'}"
      ]
     },
     "execution_count": 28,
     "metadata": {},
     "output_type": "execute_result"
    }
   ],
   "source": [
    "get_headers()"
   ]
  },
  {
   "cell_type": "code",
   "execution_count": 29,
   "metadata": {},
   "outputs": [
    {
     "data": {
      "text/plain": [
       "'https://novelbin.com/b/supreme-magus-novel/chapter-2'"
      ]
     },
     "execution_count": 29,
     "metadata": {},
     "output_type": "execute_result"
    }
   ],
   "source": [
    "url"
   ]
  },
  {
   "cell_type": "code",
   "execution_count": 30,
   "metadata": {},
   "outputs": [],
   "source": [
    "ses = requests.session()\n",
    "head = get_headers()\n"
   ]
  },
  {
   "cell_type": "code",
   "execution_count": 31,
   "metadata": {},
   "outputs": [
    {
     "data": {
      "text/plain": [
       "[{'domain': 'novelbin.com',\n",
       "  'expiry': 1673093881,\n",
       "  'httpOnly': False,\n",
       "  'name': 'novels_history',\n",
       "  'path': '/',\n",
       "  'secure': False,\n",
       "  'value': '%5B%7B%22id%22%3A%22supreme-magus-novel%22%2C%22name%22%3A%22Supreme%20Magus%22%2C%22url%22%3A%22https%3A%2F%2Fnovelbin.com%2Fb%2Fsupreme-magus-novel%22%2C%22chapter%22%3A%7B%22id%22%3A%22chapter-2%22%2C%22name%22%3A%22-2%20Joke%20.%20Do%20not%20read%20before%20chap%2057%22%2C%22url%22%3A%22https%3A%2F%2Fnovelbin.com%2Fb%2Fsupreme-magus-novel%2Fchapter-2%22%2C%22chapter_id%22%3A%22%22%7D%7D%5D'},\n",
       " {'domain': '.novelbin.com',\n",
       "  'expiry': 1677683887,\n",
       "  'httpOnly': False,\n",
       "  'name': 'truvid_protected',\n",
       "  'path': '/',\n",
       "  'secure': False,\n",
       "  'value': '{\"val\":\"c\",\"level\":1,\"geo\":\"RU\",\"timestamp\":1672489087}'},\n",
       " {'domain': '.novelbin.com',\n",
       "  'expiry': 1706185086,\n",
       "  'httpOnly': False,\n",
       "  'name': '__gpi',\n",
       "  'path': '/',\n",
       "  'secure': False,\n",
       "  'value': 'UID=00000b9b12ddff79:T=1672489086:RT=1672489086:S=ALNI_MbxMPUeze39_WygRRpABz0B0FlCAA'},\n",
       " {'domain': '.novelbin.com',\n",
       "  'expiry': 1707049081,\n",
       "  'httpOnly': False,\n",
       "  'name': '_ga_MDT18DLCET',\n",
       "  'path': '/',\n",
       "  'secure': False,\n",
       "  'value': 'GS1.1.1672489070.1.1.1672489081.0.0.0'},\n",
       " {'domain': 'novelbin.com',\n",
       "  'httpOnly': False,\n",
       "  'name': '_csrf',\n",
       "  'path': '/',\n",
       "  'secure': False,\n",
       "  'value': '2CSiVTOvdtIzBwskJEJ2NC6n'},\n",
       " {'domain': 'novelbin.com',\n",
       "  'expiry': 1672549069,\n",
       "  'httpOnly': True,\n",
       "  'name': 'connect.sid',\n",
       "  'path': '/',\n",
       "  'secure': False,\n",
       "  'value': 's%3A111MMpwRUQAPEg1OK1eAioK5swWLKcLh.1Tk2%2BH%2FTyehl98gOHs4UBoFvkPgfpLyYVrWctM%2BoSRQ'},\n",
       " {'domain': '.novelbin.com',\n",
       "  'expiry': 1704025081,\n",
       "  'httpOnly': True,\n",
       "  'name': 'cf_clearance',\n",
       "  'path': '/',\n",
       "  'sameSite': 'None',\n",
       "  'secure': True,\n",
       "  'value': 'lBitylgKEf79LoYCwz0h3Uc5tznjRTUd7aihvy1DIxc-1672489083-0-160'},\n",
       " {'domain': 'novelbin.com',\n",
       "  'expiry': 1672492679,\n",
       "  'httpOnly': False,\n",
       "  'name': 'cf_chl_2',\n",
       "  'path': '/',\n",
       "  'secure': False,\n",
       "  'value': 'a841fef81f5a345'},\n",
       " {'domain': 'novelbin.com',\n",
       "  'expiry': 1704025081,\n",
       "  'httpOnly': False,\n",
       "  'name': '_gaClientId',\n",
       "  'path': '/',\n",
       "  'secure': False,\n",
       "  'value': '196206915.1672489071'},\n",
       " {'domain': '.novelbin.com',\n",
       "  'expiry': 1706185086,\n",
       "  'httpOnly': False,\n",
       "  'name': '__gads',\n",
       "  'path': '/',\n",
       "  'secure': False,\n",
       "  'value': 'ID=7e0fb1a258679644:T=1672489086:S=ALNI_MaUOtgbuGvv0wIp7pPJVsoxPrekPQ'},\n",
       " {'domain': '.novelbin.com',\n",
       "  'expiry': 1707049081,\n",
       "  'httpOnly': False,\n",
       "  'name': '_ga',\n",
       "  'path': '/',\n",
       "  'secure': False,\n",
       "  'value': 'GA1.1.196206915.1672489071'}]"
      ]
     },
     "execution_count": 31,
     "metadata": {},
     "output_type": "execute_result"
    }
   ],
   "source": [
    "coo = pickle.load(open('data/cookie.p', 'rb'))\n",
    "# with open('data/cookies.json') as file:\n",
    "#     coo = json.loads(file.read())\n",
    "coo"
   ]
  },
  {
   "cell_type": "code",
   "execution_count": 34,
   "metadata": {},
   "outputs": [
    {
     "ename": "TypeError",
     "evalue": "Session.request() missing 1 required positional argument: 'method'",
     "output_type": "error",
     "traceback": [
      "\u001b[1;31m---------------------------------------------------------------------------\u001b[0m",
      "\u001b[1;31mTypeError\u001b[0m                                 Traceback (most recent call last)",
      "Cell \u001b[1;32mIn [34], line 1\u001b[0m\n\u001b[1;32m----> 1\u001b[0m req \u001b[39m=\u001b[39m ses\u001b[39m.\u001b[39;49mrequest(url\u001b[39m=\u001b[39;49m\u001b[39m'\u001b[39;49m\u001b[39mhttps://novelbin.com/\u001b[39;49m\u001b[39m'\u001b[39;49m, headers\u001b[39m=\u001b[39;49mhead, cookies\u001b[39m=\u001b[39;49mcoo)\n\u001b[0;32m      2\u001b[0m req\u001b[39m.\u001b[39mstatus_code\n",
      "\u001b[1;31mTypeError\u001b[0m: Session.request() missing 1 required positional argument: 'method'"
     ]
    }
   ],
   "source": [
    "req = ses.request(method=, url='https://novelbin.com/', headers=head, cookies=coo)\n",
    "req.status_code"
   ]
  },
  {
   "cell_type": "code",
   "execution_count": 17,
   "metadata": {},
   "outputs": [
    {
     "data": {
      "text/plain": [
       "403"
      ]
     },
     "execution_count": 17,
     "metadata": {},
     "output_type": "execute_result"
    }
   ],
   "source": [
    "req = ses.get(url='https://novelbin.com/b/supreme-magus-novel')\n",
    "req.status_code"
   ]
  }
 ],
 "metadata": {
  "kernelspec": {
   "display_name": "Python 3",
   "language": "python",
   "name": "python3"
  },
  "language_info": {
   "codemirror_mode": {
    "name": "ipython",
    "version": 3
   },
   "file_extension": ".py",
   "mimetype": "text/x-python",
   "name": "python",
   "nbconvert_exporter": "python",
   "pygments_lexer": "ipython3",
   "version": "3.11.0"
  },
  "orig_nbformat": 4,
  "vscode": {
   "interpreter": {
    "hash": "07fa51723cfdfdcfd96f4d831e9a58393b5ea734b6a2ccc6da0d746f7dd84b96"
   }
  }
 },
 "nbformat": 4,
 "nbformat_minor": 2
}
